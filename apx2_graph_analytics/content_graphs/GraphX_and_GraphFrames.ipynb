{
 "cells": [
  {
   "cell_type": "markdown",
   "metadata": {},
   "source": [
    "<img src=\"uva_seal.png\">  "
   ]
  },
  {
   "cell_type": "markdown",
   "metadata": {},
   "source": [
    "## Introduction to GraphX and GraphFrames\n",
    "### University of Virginia\n",
    "### DS 7200: Distributed Computing\n",
    "### Last Updated: August 20, 2023\n",
    "\n",
    "---  \n",
    "\n",
    "**RECOMMENDED KERNEL: DS 5110**\n",
    "\n",
    "### SOURCES: \n",
    "\n",
    "- Apache Spark documentation: \n",
    "    - https://spark.apache.org/graphx/\n",
    "    - https://spark.apache.org/docs/latest/graphx-programming-guide.html     \n",
    "- https://mapr.com/blog/how-get-started-using-apache-spark-graphx-scala/  \n",
    "- GraphFrames User Guide\n",
    "    - https://graphframes.github.io/graphframes/docs/_site/user-guide.html\n",
    "\n",
    "\n",
    "### OBJECTIVES\n",
    "- Introduction to `GraphX` and `GraphFrames`\n",
    "- Review `GraphX` code\n",
    "- Gain an understanding of some of the supported calculations on graphs\n",
    "- Build your own graph and compute on it\n",
    "\n",
    "### CONCEPTS\n",
    "\n",
    "- `Graph`, `Undirected Graph`, `Directed Graph`, `Multigraph`\n",
    "- `Vertex Table`\n",
    "- `Edge Table`\n",
    "- `Property Graph`\n",
    "- `Neighborhood Aggregation`\n",
    "- `Connected Components`\n",
    "- `Triangle Count`\n",
    "- `PageRank`\n",
    "\n",
    "---\n",
    "\n"
   ]
  },
  {
   "cell_type": "markdown",
   "metadata": {},
   "source": [
    "### Background\n",
    "\n",
    "**Graphs and Multigraphs**  \n",
    "\n",
    "First some quick definitions from Graph Theory:\n",
    "\n",
    "- A *graph* is a mathematical structure containing a set of objects in which some pairs of objects are related. The objects are called *vertices*, and the connections between vertices are called *edges*.  The edges model a relationship.    \n",
    "\n",
    "\n",
    "- A *multigraph* is a graph which is permitted to have multiple edges; that is, edges that have the same end nodes. \n",
    "\n",
    "\n",
    "- For later use in `GraphX`, we define an *Edge Triplet* to be an edge along with its source and destination vertices.\n"
   ]
  },
  {
   "cell_type": "markdown",
   "metadata": {},
   "source": [
    "**Undirected Graph**  \n",
    "\n",
    "Undirected graphs contain only bidirectional edges like this:"
   ]
  },
  {
   "cell_type": "markdown",
   "metadata": {},
   "source": [
    "<img src=\"undirected_graph.png\">"
   ]
  },
  {
   "cell_type": "markdown",
   "metadata": {},
   "source": [
    "**Directed Graph**  \n",
    "\n",
    "Directed graphs contain edges pointing in a single direction like this:"
   ]
  },
  {
   "cell_type": "markdown",
   "metadata": {},
   "source": [
    "<img src=\"directed_graph.png\">"
   ]
  },
  {
   "cell_type": "markdown",
   "metadata": {},
   "source": [
    "**Multigraph**\n",
    "\n",
    "Multigraphs contain pairs of vertices connected by multiple edges, like this:"
   ]
  },
  {
   "cell_type": "markdown",
   "metadata": {},
   "source": [
    "<img src=\"image01_flight-relationship.png\">  "
   ]
  },
  {
   "cell_type": "markdown",
   "metadata": {},
   "source": [
    "### GraphX Capabilities\n",
    "\n",
    "`GraphX` is the Spark API for graphs and graph-parallel computation.  \n",
    "It combines ETL, exploratory data analysis, and iterative graph computation into one system.\n",
    "\n",
    "`GraphX` includes a library of graph algorithms including:\n",
    "\n",
    "- PageRank\n",
    "- Connected components / strongly connected components\n",
    "- Label propagation\n",
    "- SVD++\n",
    "- Triangle count\n",
    "\n",
    "### GraphX Objects\n",
    "\n",
    "`GraphX` extends the Spark RDD with a *Resilient Distributed Property Graph*, which is a *multigraph*.  Each edge and vertex has defined properties, and parallel edges allow multiple relationships between the same vertices.  \n",
    "\n",
    "As an example, imagine two airports with multiple flights between the airports.  The airports are the vertices, the flights are the edges, and the construct is a multigraph.  \n",
    "\n",
    "Like RDDs, property graphs are immutable, distributed, and fault-tolerant.  Each partition of a graph can be recreated on a different machine in the event of failure.\n",
    "\n",
    "The classes `VertexRDD` and `EdgeRDD` extend RDDs.  Their purpose is to provide functionality for graph computation.\n",
    "\n",
    "**Example Property Graph**\n",
    "\n",
    "The property graph below shows collaborators on the GraphX project, and their relationships with one another.  The Vertex Table holds identifiers, usernames, and titles.  The Edge Table holds the relationships.  For example, Prof Franklin (*SrcId 5*) advises R Xin (*DstId 3*)."
   ]
  },
  {
   "cell_type": "markdown",
   "metadata": {},
   "source": [
    "<img src=\"property_graph.png\">  "
   ]
  },
  {
   "cell_type": "markdown",
   "metadata": {},
   "source": [
    "### Fundamental Operators\n",
    "\n",
    "`GraphX` exposes fundamental operators from the following categories:\n",
    "\n",
    "- information about the graph\n",
    "- views of the graph\n",
    "- functions for caching graphs\n",
    "- change partitioning\n",
    "- transform vertex and edge attributes\n",
    "- modify the graph structure\n",
    "- join RDDs with the graph\n",
    "- aggregations\n",
    "- algorithms (listed above in Capabilities section)\n",
    "\n",
    "For a detailed listing, visit:  \n",
    "https://spark.apache.org/docs/latest/graphx-programming-guide.html\n",
    "\n",
    "Some of the most important operators:  \n",
    "\n",
    "- `subgraph`  \n",
    "\n",
    "Takes vertex and edge predicates and returns the graph containing only the vertices and edges satisfying their predicates, while connecting vertices that satisfy the vertex predicate.  \n",
    "\n",
    "Examples include returning a graph without broken links (a pruned graph).    \n",
    "\n",
    "- `joinVertices`  \n",
    "\n",
    "Joins the vertices with the input RDD and returns a new graph with the vertex properties obtained by applying the user defined map function to the result of the joined vertices.  \n",
    "\n",
    "- `aggregateMessages`  \n",
    "\n",
    "`aggregateMessages` applies a user defined sendMsg function to each edge triplet in the graph and then uses the mergeMsg function to aggregate those messages at their destination vertex.\n",
    "\n",
    "### Basic Operations and Calculations with Graphs\n",
    "\n",
    "The functionality supports interesting calculations, ranging from very simple (count the number of edges, count the number of vertices) to more complex (count the number of followers).  Counting the number of followers can be computed using `PageRank`.  \n",
    "\n",
    "**Neighborhood aggregation**  \n",
    "*Neighborhood aggregation* is the process of aggregating information about the neighborhood of each vertex.  "
   ]
  },
  {
   "cell_type": "markdown",
   "metadata": {},
   "source": [
    "**Caching**\n",
    "\n",
    "Graphs are NOT cached by default.  If you plan to use a graph more than once, avoid recomputing it by calling `cache()`.  "
   ]
  },
  {
   "cell_type": "markdown",
   "metadata": {},
   "source": [
    "**Graph Builders**\n",
    "\n",
    "`GraphX` provides several ways of building a graph from vertices and edges in an RDD or on disk.  The graph builders leave the edges in their default partitions, to avoid shuffling data."
   ]
  },
  {
   "cell_type": "markdown",
   "metadata": {},
   "source": [
    "**Optimized Representation**\n",
    "\n",
    "`GraphX` follows a vertex-cut approach to distributed graph partitioning.  Effectively, `GraphX` partitions the graph along vertices to reduce communication and storage costs.  Thus, the logical plan assigns each edge to a single machine, while the vertices can span multiple machines. "
   ]
  },
  {
   "cell_type": "markdown",
   "metadata": {},
   "source": [
    "### Algorithms\n",
    "\n",
    "`PageRank`  \n",
    "This algo measures the importance of each vertex in a graph.  For example, if a user (represented by a vertex) has many followers (represented by many edges), then it will have a high rank."
   ]
  },
  {
   "cell_type": "markdown",
   "metadata": {},
   "source": [
    "`Connected Components`  \n",
    "A *component* in an undirected graph is a subgraph in which any two vertices are connected to each other by edges, and not connected to other vertices in the supergraph.  Essentially, the components form clusters in the graph.  This diagram may help clarify:"
   ]
  },
  {
   "cell_type": "markdown",
   "metadata": {},
   "source": [
    "<img src=\"component.png\">"
   ]
  },
  {
   "cell_type": "markdown",
   "metadata": {},
   "source": [
    "The `Connected Components` algorithm labels each connected component of the graph with the index of the lowest-numbered vertex."
   ]
  },
  {
   "cell_type": "markdown",
   "metadata": {},
   "source": [
    "`Triangle Counting`  \n",
    "This algo provides a measure of clustering.  A ratio of the number of triangles in the cluster to the number of possible triangles is computed.  A vertex is part of the triangle when it has two adjacent vertices with an edge connecting them."
   ]
  },
  {
   "cell_type": "markdown",
   "metadata": {},
   "source": [
    "### GraphFrames in PySpark\n",
    "\n",
    "`GraphX` was initially supported only in Scala Spark.  \n",
    "With the addition of the `GraphFrames` package, PySpark now includes graph functionality.  \n",
    "Vertices and edges are represented as DataFrames instead of RDDs.\n",
    "\n",
    "This analogy will be helpful:\n",
    "\n",
    "`GraphX` : `RDDs` :: `GraphFrames` : `DataFrames`  \n",
    "\n",
    "`GraphFrames` is a separate project from core Apache Spark.  \n",
    "\n",
    "### GraphFrames Examples  \n",
    "\n",
    "The code snippets below are based on the `GraphFrames` user guide.  They illustrate basic operations and algorithm use.  \n",
    "Run the cells and note their output.\n",
    "\n",
    "**Create a Vertex DataFrame and an Edge DataFrame**"
   ]
  },
  {
   "cell_type": "code",
   "execution_count": 1,
   "metadata": {},
   "outputs": [],
   "source": [
    "from pyspark.sql import SQLContext\n",
    "from pyspark.sql import SparkSession\n",
    "spark = SparkSession.builder \\\n",
    "        .master(\"local\") \\\n",
    "        .appName(\"mllib_classifier\") \\\n",
    "        .getOrCreate()\n",
    "sc = spark.sparkContext\n",
    "sqlContext = SQLContext(sc)\n",
    "\n",
    "from graphframes import *\n",
    "\n",
    "# Vertex DataFrame; contains identifier field \"id\"\n",
    "v = sqlContext.createDataFrame([\n",
    "  (\"1\", \"Adam\", \"koala\"),\n",
    "  (\"2\", \"Callie\", \"flamingo\"),\n",
    "  (\"3\", \"Elle\", \"panda\"),\n",
    "  (\"4\", \"Jacqui\", \"fox\")\n",
    "], [\"id\", \"name\", \"favorite_animal\"])\n",
    "\n",
    "# Edge DataFrame; contains source field \"src\" and destination field \"dst\"\n",
    "e = sqlContext.createDataFrame([\n",
    "  (\"1\", \"2\", \"dad\"),\n",
    "  (\"1\", \"3\", \"husband\"),\n",
    "  (\"1\", \"4\", \"son_in_law\"),\n",
    "  (\"2\", \"1\", \"daughter\"),\n",
    "  (\"2\", \"3\", \"daughter\"),\n",
    "  (\"2\", \"4\", \"granddaughter\"),\n",
    "  (\"3\", \"1\", \"wife\"),\n",
    "  (\"3\", \"2\", \"mom\"),\n",
    "  (\"3\", \"4\", \"daughter\"),\n",
    "  (\"4\", \"1\", \"mother_in_law\"),\n",
    "  (\"4\", \"2\", \"grandmother\"),\n",
    "  (\"4\", \"3\", \"mom\")\n",
    "], [\"src\", \"dst\", \"relationship\"])"
   ]
  },
  {
   "cell_type": "code",
   "execution_count": 2,
   "metadata": {},
   "outputs": [],
   "source": [
    "# Create a GraphFrame\n",
    "g = GraphFrame(v, e)"
   ]
  },
  {
   "cell_type": "code",
   "execution_count": 3,
   "metadata": {},
   "outputs": [
    {
     "name": "stdout",
     "output_type": "stream",
     "text": [
      "GraphFrame(v:[id: string, name: string ... 1 more field], e:[src: string, dst: string ... 1 more field])\n"
     ]
    }
   ],
   "source": [
    "# print the graph\n",
    "print(g)"
   ]
  },
  {
   "cell_type": "code",
   "execution_count": null,
   "metadata": {},
   "outputs": [],
   "source": [
    "# show the vertices\n",
    "g.vertices.show()"
   ]
  },
  {
   "cell_type": "code",
   "execution_count": null,
   "metadata": {},
   "outputs": [],
   "source": [
    "# show the edges\n",
    "g.edges.show()"
   ]
  },
  {
   "cell_type": "code",
   "execution_count": null,
   "metadata": {},
   "outputs": [],
   "source": [
    "# compute the number of daughter relationships\n",
    "numDaughter = g.edges.filter(\"relationship = 'daughter'\").count()"
   ]
  },
  {
   "cell_type": "code",
   "execution_count": null,
   "metadata": {},
   "outputs": [],
   "source": [
    "# run PageRank for 10 iterations\n",
    "results = g.pageRank(resetProbability=0.15, maxIter=10)\n",
    "\n",
    "# print results\n",
    "results.vertices.show()\n",
    "results.edges.show()"
   ]
  },
  {
   "cell_type": "code",
   "execution_count": null,
   "metadata": {},
   "outputs": [],
   "source": [
    "# compute the triangle count\n",
    "results = g.triangleCount()\n",
    "results.select(\"id\", \"count\").show()"
   ]
  }
 ],
 "metadata": {
  "anaconda-cloud": {},
  "kernelspec": {
   "display_name": "DS5110",
   "language": "python",
   "name": "ds5110"
  },
  "language_info": {
   "codemirror_mode": {
    "name": "ipython",
    "version": 3
   },
   "file_extension": ".py",
   "mimetype": "text/x-python",
   "name": "python",
   "nbconvert_exporter": "python",
   "pygments_lexer": "ipython3",
   "version": "3.7.10"
  }
 },
 "nbformat": 4,
 "nbformat_minor": 4
}
