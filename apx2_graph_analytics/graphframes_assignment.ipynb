{
 "cells": [
  {
   "cell_type": "markdown",
   "metadata": {},
   "source": [
    "## Lab: Working with GraphFrames\n",
    "### University of Virginia\n",
    "### DS 7200: Distributed Computing\n",
    "### Last Updated: August 20, 2023\n",
    "\n",
    "---  \n",
    "\n",
    "\n",
    "**INSTRUCTIONS**\n",
    "\n",
    "In this assignment, you will run the GraphX code below to answer the questions.  The value *None* is used as a placeholder.\n",
    "\n",
    "TOTAL POINTS: 8\n",
    "\n",
    "**RECOMMENDED KERNEL: DS 5110**\n",
    "\n",
    "---\n",
    "\n"
   ]
  },
  {
   "cell_type": "code",
   "execution_count": 1,
   "metadata": {},
   "outputs": [],
   "source": [
    "from pyspark.sql import SparkSession\n",
    "spark = SparkSession.builder.getOrCreate()\n",
    "from graphframes import *"
   ]
  },
  {
   "cell_type": "code",
   "execution_count": 2,
   "metadata": {},
   "outputs": [],
   "source": [
    "# Vertex DataFrame; contains identifier field \"id\"\n",
    "v = spark.createDataFrame([\n",
    "  (\"1\", \"Adam\", \"koala\"),\n",
    "  (\"2\", \"Callie\", \"flamingo\"),\n",
    "  (\"3\", \"Elle\", \"panda\"),\n",
    "  (\"4\", \"Jacqui\", \"fox\")\n",
    "], [\"id\", \"name\", \"favorite_animal\"])\n",
    "\n",
    "# Edge DataFrame; contains source field \"src\" and destination field \"dst\"\n",
    "e = spark.createDataFrame([\n",
    "  (\"1\", \"2\", \"dad\"),\n",
    "  (\"1\", \"3\", \"husband\"),\n",
    "  (\"1\", \"4\", \"son_in_law\"),\n",
    "  (\"2\", \"1\", \"daughter\"),\n",
    "  (\"2\", \"3\", \"daughter\"),\n",
    "  (\"2\", \"4\", \"granddaughter\"),\n",
    "  (\"3\", \"1\", \"wife\"),\n",
    "  (\"3\", \"2\", \"mom\"),\n",
    "  (\"3\", \"4\", \"daughter\"),\n",
    "  (\"4\", \"1\", \"mother_in_law\"),\n",
    "  (\"4\", \"2\", \"grandmother\"),\n",
    "  (\"4\", \"3\", \"mom\")\n",
    "], [\"src\", \"dst\", \"relationship\"])"
   ]
  },
  {
   "cell_type": "markdown",
   "metadata": {},
   "source": [
    "1) (1 PT) Create a GraphFrame"
   ]
  },
  {
   "cell_type": "code",
   "execution_count": 5,
   "metadata": {},
   "outputs": [],
   "source": [
    "g = None"
   ]
  },
  {
   "cell_type": "markdown",
   "metadata": {},
   "source": [
    "2) (1 PT) Show the vertices"
   ]
  },
  {
   "cell_type": "code",
   "execution_count": null,
   "metadata": {},
   "outputs": [],
   "source": []
  },
  {
   "cell_type": "markdown",
   "metadata": {},
   "source": [
    "3) (1 PT) Compute and print the number of grandmother relationships in the graph *g*"
   ]
  },
  {
   "cell_type": "code",
   "execution_count": 2,
   "metadata": {},
   "outputs": [],
   "source": []
  },
  {
   "cell_type": "markdown",
   "metadata": {},
   "source": [
    "4) (1 PT) Run PageRank for 20 iterations with a reset probability 0.25. Next, print the vertices."
   ]
  },
  {
   "cell_type": "code",
   "execution_count": null,
   "metadata": {},
   "outputs": [],
   "source": [
    "results = None\n",
    "vertices = None\n",
    "print(vertices)"
   ]
  },
  {
   "cell_type": "markdown",
   "metadata": {},
   "source": [
    "**PageRank**  \n",
    "i. In the cell below, copy the vertex and edge dataframe code   \n",
    "ii. Modify the dataframes and build a new graph to produce *pagerank* values which are not all the same.  These values are shown in the *results.pagerank* field  "
   ]
  },
  {
   "cell_type": "code",
   "execution_count": null,
   "metadata": {},
   "outputs": [],
   "source": [
    "# Enter vertex and edge data here\n"
   ]
  },
  {
   "cell_type": "markdown",
   "metadata": {},
   "source": [
    "5) (1 PT) Enter PageRank code here"
   ]
  },
  {
   "cell_type": "code",
   "execution_count": null,
   "metadata": {},
   "outputs": [],
   "source": []
  },
  {
   "cell_type": "markdown",
   "metadata": {},
   "source": [
    "6) (1 PT) Print the results, showing values that are not all the same"
   ]
  },
  {
   "cell_type": "code",
   "execution_count": null,
   "metadata": {},
   "outputs": [],
   "source": []
  },
  {
   "cell_type": "markdown",
   "metadata": {},
   "source": [
    "7) (2 PTS) Explain your results.  Do they make sense?\n"
   ]
  },
  {
   "cell_type": "markdown",
   "metadata": {},
   "source": []
  }
 ],
 "metadata": {
  "anaconda-cloud": {},
  "kernelspec": {
   "display_name": "DS5110",
   "language": "python",
   "name": "ds5110"
  },
  "language_info": {
   "codemirror_mode": {
    "name": "ipython",
    "version": 3
   },
   "file_extension": ".py",
   "mimetype": "text/x-python",
   "name": "python",
   "nbconvert_exporter": "python",
   "pygments_lexer": "ipython3",
   "version": "3.7.10"
  }
 },
 "nbformat": 4,
 "nbformat_minor": 4
}
