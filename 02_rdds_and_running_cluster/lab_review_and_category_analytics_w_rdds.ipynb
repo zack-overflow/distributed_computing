{
 "cells": [
  {
   "cell_type": "markdown",
   "metadata": {},
   "source": [
    "## Lab Assignment: Analytics on Glassdoor Reviews and Yelp Category Data\n",
    "\n",
    "### University of Virginia\n",
    "### DS 7200: Distributed Computing\n",
    "### Last Updated: August 20, 2023\n",
    "\n",
    "---"
   ]
  },
  {
   "cell_type": "markdown",
   "metadata": {},
   "source": [
    "### OBJECTIVE  \n",
    "\n",
    "In this assignment, you will perform some basic analytics on review and category data.  \n",
    "This will entail performing operations on *RDDs*, and using *list comprehensions*.   \n",
    "\n",
    "As this assignment covers RDDs, do not use DataFrames.\n",
    "\n",
    "Read in the dataset and perform the steps requested below.\n",
    "\n",
    "#### TOTAL POINTS = 10\n",
    "\n",
    "---"
   ]
  },
  {
   "cell_type": "markdown",
   "metadata": {},
   "source": [
    "### Config Setup"
   ]
  },
  {
   "cell_type": "code",
   "execution_count": 1,
   "metadata": {
    "tags": []
   },
   "outputs": [
    {
     "name": "stderr",
     "output_type": "stream",
     "text": [
      "/opt/conda/lib/python3.7/site-packages/pyspark/bin/load-spark-env.sh: line 68: ps: command not found\n",
      "Setting default log level to \"WARN\".\n",
      "To adjust logging level use sc.setLogLevel(newLevel). For SparkR, use setLogLevel(newLevel).\n"
     ]
    },
    {
     "name": "stdout",
     "output_type": "stream",
     "text": [
      "24/09/18 23:44:40 WARN NativeCodeLoader: Unable to load native-hadoop library for your platform... using builtin-java classes where applicable\n"
     ]
    }
   ],
   "source": [
    "from pyspark.sql import SparkSession\n",
    "\n",
    "spark = SparkSession \\\n",
    "    .builder \\\n",
    "    .master(\"local\") \\\n",
    "    .appName(\"review_and_category_analytics\") \\\n",
    "    .config(\"spark.executor.memory\", '8g') \\\n",
    "    .config('spark.executor.cores', '4') \\\n",
    "    .config('spark.cores.max', '4') \\\n",
    "    .config(\"spark.driver.memory\",'1g') \\\n",
    "    .getOrCreate()\n",
    "\n",
    "sc = spark.sparkContext"
   ]
  },
  {
   "cell_type": "markdown",
   "metadata": {},
   "source": [
    "Read in the dataset  "
   ]
  },
  {
   "cell_type": "code",
   "execution_count": 2,
   "metadata": {
    "tags": []
   },
   "outputs": [],
   "source": [
    "df = sc.textFile(\"reviews_and_categories.csv\")"
   ]
  },
  {
   "cell_type": "markdown",
   "metadata": {},
   "source": [
    "Get non-header records  "
   ]
  },
  {
   "cell_type": "code",
   "execution_count": 3,
   "metadata": {
    "tags": []
   },
   "outputs": [
    {
     "name": "stderr",
     "output_type": "stream",
     "text": [
      "                                                                                \r"
     ]
    }
   ],
   "source": [
    "header_record = df.first()\n",
    "df_no_header = df.filter(lambda record : record != header_record)"
   ]
  },
  {
   "cell_type": "markdown",
   "metadata": {},
   "source": [
    "Print the first 2 records (note: exclude the header in all calculations)"
   ]
  },
  {
   "cell_type": "markdown",
   "metadata": {},
   "source": [
    "**1) get a record count (2 POINTS)**"
   ]
  },
  {
   "cell_type": "code",
   "execution_count": 4,
   "metadata": {
    "tags": []
   },
   "outputs": [
    {
     "data": {
      "text/plain": [
       "1302"
      ]
     },
     "execution_count": 4,
     "metadata": {},
     "output_type": "execute_result"
    }
   ],
   "source": [
    "df_no_header.count()"
   ]
  },
  {
   "cell_type": "markdown",
   "metadata": {},
   "source": [
    "**2) get a count of records with non-missing reviews (2 POINTS)**"
   ]
  },
  {
   "cell_type": "markdown",
   "metadata": {},
   "source": [
    "We split each record by comma and look at the text after the second comma (e.g. where the review should be). If it is an empty string, we assume there is no review and filter out that row, leaving the rows with non-missing reviews!"
   ]
  },
  {
   "cell_type": "code",
   "execution_count": 5,
   "metadata": {
    "tags": []
   },
   "outputs": [
    {
     "data": {
      "text/plain": [
       "305"
      ]
     },
     "execution_count": 5,
     "metadata": {},
     "output_type": "execute_result"
    }
   ],
   "source": [
    "df_no_header.filter(lambda record : record.split(\",\")[1] != '').count()"
   ]
  },
  {
   "cell_type": "markdown",
   "metadata": {},
   "source": [
    "**3) Return the count of records where review contains the word *flexible*  (1 POINT)**"
   ]
  },
  {
   "cell_type": "markdown",
   "metadata": {},
   "source": [
    "We split on the open square bracket to separate the review text from the categories, just in case \"flexible\" appears in the categories. This will also be useful later when we are performing analysis on the categories."
   ]
  },
  {
   "cell_type": "code",
   "execution_count": 6,
   "metadata": {},
   "outputs": [],
   "source": [
    "df_categories_separate = df_no_header.map(lambda record : record.split(\"[\"))"
   ]
  },
  {
   "cell_type": "code",
   "execution_count": 7,
   "metadata": {
    "tags": []
   },
   "outputs": [
    {
     "data": {
      "text/plain": [
       "36"
      ]
     },
     "execution_count": 7,
     "metadata": {},
     "output_type": "execute_result"
    }
   ],
   "source": [
    "df_categories_separate.filter(lambda record : \"flexible\" in record[0]).count()"
   ]
  },
  {
   "cell_type": "markdown",
   "metadata": {},
   "source": [
    "Print the records where review contains the word *flexible*"
   ]
  },
  {
   "cell_type": "code",
   "execution_count": 8,
   "metadata": {},
   "outputs": [
    {
     "data": {
      "text/plain": [
       "[['25,\"Nice to work for but no room to advance Pros Gave me lots of hours and very flexible with my college school schedule. Always allowed me to work as many hours as I could. Cons When asked for a raise, there was no question about it, the answer was no. I feel like this is a dead end job where you can t advance to become something better\",\"',\n",
       "  '\\'credit cards\\', \\'las vegas\\', \\'restaurants\\', \\'no outdoor seating\\', \\'price\\', \\'store\\', \\'hospitality\\', \\'hot dogs\\', \\'dogs\\', \\'restaurant chains\\', \\'fast food restaurant\\', \\'fast food\\', \\'point of interest\\', \\'restaurant\\', \\'sandwiches\\', \\'california\\', \\'los angeles\\', \\'chili\\', \\'establishment\\', \\'other\\', \\'food\\']\"'],\n",
       " ['30,\"Great, Very flexible and understanding. Pros Good food, great people. flexible hours. Cons Limited work hours every week.\",\"',\n",
       "  '\\'chicken wings\\', \\'meal takeaway\\', \\'store\\', \\'point of interest\\', \\'restaurant\\', \\'sandwiches\\', \\'pizza\\', \\'establishment\\', \\'other\\', \\'food\\']\"'],\n",
       " ['31,High demand and stress with very low reward. Pros Schedule is very flexible with opportunities to work out of store for percentage of profit. Free custard! Cons Unorganized management. Low pay (min wage 10 h). Often times catering is very behind. Orders for catering change constantly. Unreliable employees.,\"',\n",
       "  '\\'ibm\\', \\'oklahoma\\', \\'tulsa\\', \\'store\\', \\'laser tag\\', \\'greater tulsa\\', \\'point of interest\\', \\'ice cream shop\\', \\'ice cream & frozen yogurt\\', \\'earned media\\', \\'the titanic\\', \\'orlando\\', \\'other\\', \\'establishment\\', \\'fleetwood mac\\', \\'food\\']\"'],\n",
       " ['44,\"Decent Employer Employees Need Improvement Pros The Managers were usually very fair, level headed, and flexible Customers were usually cool Job not very difficult Cons Some employees were morons Company had a fear of firing, so bad hires would wallow in less and less hours until they quit\",\"',\n",
       "  '\\'lunch\\', \\'credit cards\\', \\'restaurants\\', \\'no outdoor seating\\', \\'best\\', \\'bacon sandwich\\', \\'best sandwiches in fresno\\', \\'menus\\', \\'cheap lunch\\', \\'bbq chicken\\', \\'establishment\\', \\'price\\', \\'point of interest\\', \\'chipotle chicken sandwich\\', \\'blt\\', \\'cheap sandwich\\', \\'sandwiches\\', \\'biggest sandwich\\', \\'food\\', \\'fresno\\', \\'other\\', \\'dining options\\', \\'sandwich place\\', \\'biggest bacon sandwiches\\', \\'delis\\', \\'store\\', \\'long sandwich\\', \\'dinner, lunch & more\\', \\'restaurant\\', \\'bbq steak\\', \\'chipotle chicken\\']\"'],\n",
       " ['51,\"This company has a good background, quality products and a modern feel, but can t see lasting more than 10 more years. Pros Nice locations, flexible hours and quality healthy options on the current food market. Cons Working here is a joke, management acts like children, employees are not disciplined, and many laws are broken behind the scenes, I recommend an investigation and health inspections. McDonalds management\",\"',\n",
       "  '\\'torah\\', \\'best fish\\', \\'credit cards\\', \\'no reservations\\', \\'menus\\', \\'bitcoin\\', \\'establishment\\', \\'grilled fish tacos\\', \\'simply the freshest\\', \\'price\\', \\'chefs\\', \\'point of interest\\', \\'seafood\\', \\'fresh fish\\', \\'snapper\\', \\'other\\', \\'food\\', \\'dining options\\', \\'recipes\\', \\'salmon fillet\\', \\'salmon\\', \\'$$\\', \\'israel\\', \\'fast food\\', \\'fish\\', \\'seafood restaurant\\', \\'mesquite grilled fish\\', \\'kosher\\', \\'ahi tuna\\', \\'sea food restaurant\\', \\'restaurant\\', \\'dinner, breakfast & more\\', \\'outdoor seating\\']\"'],\n",
       " ['84,\"Great family oriented workforce Pros Understanding, flexible, with friendly staff. We do more charity work than i have ever seen before at any other employer I have worked for. Community based and for our own employees. Great employment advancement opportunities with jobs being offered internally first and educational reimbursement plan. Cons low pay compared to area and can be a little unorganized and lack current times technology and methods of business. Simple email, accounting, and other processes within the company feel as if it s still 1970 s. Healthcare benefits are VERY expensive. Most employees struggle to afford them, unless you are a provider or Doctor.\",\"',\n",
       "  '\\'hospitals & clinics\\', \\'walk-in clinics\\', \\'health\\', \\'medical center\\', \\'healthcare\\', \\'hospital\\', \"\"doctor\\'s office\"\", \\'point of interest\\', \\'establishment\\', \\'other\\']\"'],\n",
       " ['115,\"This company has a good background, quality products and a modern feel, but can t see lasting more than 10 more years. Pros Nice locations, flexible hours and quality healthy options on the current food market. Cons Working here is a joke, management acts like children, employees are not disciplined, and many laws are broken behind the scenes, I recommend an investigation and health inspections. McDonalds management\",\"',\n",
       "  '\\'favorites\\', \\'garlic butter sauce\\', \\'healthy places\\', \\'credit cards\\', \\'restaurants\\', \\'no reservations\\', \\'irvine\\', \\'menus\\', \\'cajun seared ahi tuna\\', \\'valencia\\', \\'no wi-fi\\', \\'coffee\\', \\'establishment\\', \\'garlic butter\\', \\'drinks\\', \\'price\\', \\'health\\', \\'fishbonz\\', \\'point of interest\\', \\'california\\', \\'seafood\\', \\'other\\', \\'food\\', \\'dining options\\', \\'a basket of calamari\\', \\'anaheim\\', \\'$$\\', \\'beer & wine\\', \\'cajun seared\\', \\'white fish (swai)\\', \\'salad\\', \\'seafood restaurant\\', \\'american restaurant\\', \\'ahi tuna\\', \\'real estate\\', \\'dinner, lunch & more\\', \\'restaurant\\', \\'two cold beers\\', \\'outdoor seating\\']\"'],\n",
       " ['131,\"This company has a good background, quality products and a modern feel, but can t see lasting more than 10 more years. Pros Nice locations, flexible hours and quality healthy options on the current food market. Cons Working here is a joke, management acts like children, employees are not disciplined, and many laws are broken behind the scenes, I recommend an investigation and health inspections. McDonalds management\",\"',\n",
       "  '\\'favorites\\', \\'garlic butter sauce\\', \\'healthy places\\', \\'credit cards\\', \\'restaurants\\', \\'no reservations\\', \\'white fish\\', \\'irvine\\', \\'menus\\', \\'valencia\\', \\'tacos\\', \\'coffee\\', \\'establishment\\', \\'music\\', \\'drinks\\', \\'price\\', \\'health\\', \\'point of interest\\', \\'white roughy with garlic butter sauce\\', \\'california\\', \\'seafood\\', \\'other\\', \\'food\\', \\'two cold beers\\', \\'dining options\\', \\'a basket of calamari\\', \\'anaheim\\', \\'beer & wine\\', \\'fish\\', \\'cajun seared\\', \\'white fish (swai)\\', \\'salad\\', \\'seafood restaurant\\', \\'american restaurant\\', \\'ahi tuna\\', \\'real estate\\', \\'live music\\', \\'eating places\\', \\'dinner, lunch & more\\', \\'restaurant\\', \\'cajun style is the best\\', \\'outdoor seating\\']\"'],\n",
       " ['161,\"This company has a good background, quality products and a modern feel, but can t see lasting more than 10 more years. Pros Nice locations, flexible hours and quality healthy options on the current food market. Cons Working here is a joke, management acts like children, employees are not disciplined, and many laws are broken behind the scenes, I recommend an investigation and health inspections. McDonalds management\",\"',\n",
       "  '\\'favorites\\', \\'garlic butter sauce\\', \\'healthy places\\', \\'credit cards\\', \\'restaurants\\', \\'no reservations\\', \\'white fish\\', \\'irvine\\', \\'menus\\', \\'valencia\\', \\'coffee\\', \\'establishment\\', \\'grilled zucchini\\', \\'restaurant\\', \\'drinks\\', \\'price\\', \\'health\\', \\'point of interest\\', \\'california\\', \\'seafood\\', \\'other\\', \\'food\\', \\'a basket of calamari\\', \\'beer & wine\\', \\'cajun seared\\', \\'cajun style\\', \\'white fish (swai)\\', \\'salad\\', \\'seafood restaurant\\', \\'american restaurant\\', \\'ahi tuna\\', \\'real estate\\', \\'$$$\\', \\'dinner, lunch & more\\', \\'anaheim\\', \\'two cold beers\\', \\'outdoor seating\\']\"'],\n",
       " ['258,\"This company has a good background, quality products and a modern feel, but can t see lasting more than 10 more years. Pros Nice locations, flexible hours and quality healthy options on the current food market. Cons Working here is a joke, management acts like children, employees are not disciplined, and many laws are broken behind the scenes, I recommend an investigation and health inspections. McDonalds management\",\"',\n",
       "  '\\'favorites\\', \\'garlic butter sauce\\', \\'healthy places\\', \\'credit cards\\', \\'restaurants\\', \\'no reservations\\', \\'no outdoor seating\\', \\'irvine\\', \\'menus\\', \\'valencia\\', \\'no wi-fi\\', \\'coffee\\', \\'establishment\\', \\'grilled zucchini\\', \\'drinks\\', \\'price\\', \\'health\\', \\'cajun salmon\\', \\'point of interest\\', \\'california\\', \\'seafood\\', \\'other\\', \\'food\\', \\'dining options\\', \\'a basket of calamari\\', \\'anaheim\\', \\'$$\\', \\'beer & wine\\', \\'cajun seared\\', \\'white fish (swai)\\', \\'salad\\', \\'seafood restaurant\\', \\'american restaurant\\', \\'garlic butter over\\', \\'ahi tuna\\', \\'real estate\\', \\'restaurant\\', \\'two cold beers\\', \\'dinner, breakfast & more\\']\"'],\n",
       " ['284,\"Cashier Pros It is a job and all of the employees are very nice and helpful to new workers. The boss (Jamiil) treats his employees well and is flexible with your schedule. Cons You have to stand for hours upon hours at a time. The place gets hot and you sweat, and there are certain rush hours at lunch and at dinner where it gets extremely busy.\",\"',\n",
       "  '\\'cinnabon\\', \\'restaurants\\', \\'hispanic food\\', \\'establishment\\', \\'drupal\\', \\'hospitality\\', \\'local mexican food\\', \\'point of interest\\', \\'california\\', \\'starbucks\\', \\'other\\', \\'food\\', \\'fresh mexican\\', \\'religion and spirituality\\', \\'tex-mex\\', \\'joomla!\\', \\'restaurant chains\\', \\'fast food\\', \\'onerepublic\\', \\'sales\\', \\'thrillers\\', \\'eating places\\', \\'restaurant\\', \\'india politics\\', \\'mexican\\']\"'],\n",
       " ['287,\"This company has a good background, quality products and a modern feel, but can t see lasting more than 10 more years. Pros Nice locations, flexible hours and quality healthy options on the current food market. Cons Working here is a joke, management acts like children, employees are not disciplined, and many laws are broken behind the scenes, I recommend an investigation and health inspections. McDonalds management\",\"',\n",
       "  '\\'favorites\\', \\'garlic butter sauce\\', \\'healthy places\\', \\'credit cards\\', \\'restaurants\\', \\'no reservations\\', \\'irvine\\', \\'menus\\', \\'valencia\\', \\'coffee\\', \\'establishment\\', \\'garlic butter\\', \\'drinks\\', \\'price\\', \\'health\\', \\'cajun salmon\\', \\'point of interest\\', \\'california\\', \\'seafood\\', \\'other\\', \\'food\\', \\'dining options\\', \\'a basket of calamari\\', \\'anaheim\\', \\'$$\\', \\'cajun ahi\\', \\'beer & wine\\', \\'fish\\', \\'cajun seared\\', \\'white fish (swai)\\', \\'salad\\', \\'seafood restaurant\\', \\'american restaurant\\', \\'ahi tuna\\', \\'real estate\\', \\'dinner, lunch & more\\', \\'eating places\\', \\'restaurant\\', \\'two cold beers\\', \\'outdoor seating\\']\"'],\n",
       " ['289,\"Great Job Pros By far the best service job I ve ever had. The managers genuinely care about you, they re not just your bosses they re your friends. The atmosphere is laid back, if you re outgoing and like to talk to people, or good at faking it and want above minimum wage, I definitely say apply. Super flexible, upbeat, a great place to work that works around your schedule. Mario and Ellen are the greatest. Cons The guests can be pretty annoying, but what do you expect at a hipster sandwich shop Honestly, it s so much better than any other place I had worked before this I can t think of anything else.\",\"',\n",
       "  '\\'lunch\\', \\'restaurants\\', \\'no reservations\\', \\'organic\\', \\'caterers\\', \\'menus\\', \\'establishment\\', \\'price\\', \\'meal takeaway\\', \\'hospitality\\', \\'chefs\\', \\'point of interest\\', \\'sandwiches\\', \\'kurobuta pork\\', \\'outdoor seating\\', \\'other\\', \\'food\\', \\'dining options\\', \\'$$\\', \\'sandwich place\\', \\'farm salad\\', \\'los angeles\\', \\'salad\\', \\'delivery\\', \\'american restaurant\\', \\'pork belly banh mi\\', \\'sandwhichs\\', \\'salads\\', \\'restaurant\\', \\'orange county\\', \\'delicious\\']\"'],\n",
       " ['296,\"Cashier Pros It is a job and all of the employees are very nice and helpful to new workers. The boss (Jamiil) treats his employees well and is flexible with your schedule. Cons You have to stand for hours upon hours at a time. The place gets hot and you sweat, and there are certain rush hours at lunch and at dinner where it gets extremely busy.\",\"',\n",
       "  '\\'cinnabon\\', \\'restaurants\\', \\'hispanic food\\', \\'establishment\\', \\'drupal\\', \\'hospitality\\', \\'local mexican food\\', \\'point of interest\\', \\'starbucks\\', \\'california\\', \\'other\\', \\'food\\', \\'fresh mexican\\', \\'religion and spirituality\\', \\'joomla!\\', \\'restaurant chains\\', \\'onerepublic\\', \\'sales\\', \\'thrillers\\', \\'restaurant\\', \\'india politics\\', \\'mexican\\']\"'],\n",
       " ['352,\"Great Managers Pros The managers that I m working with are amazing and fantastic, they are really nice and give a flexible schedule. If you are busy or sick, they ll help support you with a sick day Cons Not much cons, although we do have some cooks who are slow, I do believe they need to set their expectations a little higher when it comes to customer satisfaction\",\"',\n",
       "  '\\'gerardo ortiz\\', \\'trucks\\', \\'restaurant\\', \\'credit cards\\', \\'restaurants\\', \\'price\\', \\'tacos\\', \\'phoenix\\', \\'new mexico\\', \\'fast food\\', \\'mexican restaurant\\', \\'eating places\\', \\'reservations\\', \\'burro\\', \\'super nachos\\', \\'point of interest\\', \\'establishment\\', \\'mexican\\', \\'other\\', \\'food\\', \\'outdoor seating\\']\"'],\n",
       " ['378,\"Good Part time Job Pros flexible work hours, friendly working employees Cons team managers are childish, pay is minimal\",\"',\n",
       "  '\\'dallas stars\\', \\'entertainment\\', \\'oklahoma\\', \\'fort worth\\', \\'restaurants\\', \\'baseball\\', \\'colleges and universities\\', \\'oklahoma city\\', \\'tony romo\\', \\'texas rangers\\', \\'chicken shop\\', \\'point of interest\\', \\'dallas\\', \\'fast food\\', \\'restaurant\\', \\'texas\\', \\'establishment\\', \\'other\\', \\'food\\']\"'],\n",
       " ['381,Delivery Driver Pros Its a job and you get a discount on food. The other employees are nice and the schedule can be flexible with them if you need off for something. Cons Don t keep up with time. Don t get paid for time. No benefits. Drive all over the county and Nashville. Work for a couple hours in the kitchen for less than minimum wage and not get paid for it at all. Owner is a hot head and gets mad all the time. Prepare to earn your money by tips only.,\"',\n",
       "  '\\'meal delivery\\', \\'cafes\\', \\'meal takeaway\\', \\'point of interest\\', \\'eating places\\', \\'restaurant\\', \\'establishment\\', \\'food\\']\"'],\n",
       " ['462,\"This company has a good background, quality products and a modern feel, but can t see lasting more than 10 more years. Pros Nice locations, flexible hours and quality healthy options on the current food market. Cons Working here is a joke, management acts like children, employees are not disciplined, and many laws are broken behind the scenes, I recommend an investigation and health inspections. McDonalds management\",\"',\n",
       "  '\\'favorites\\', \\'garlic butter sauce\\', \\'healthy places\\', \\'credit cards\\', \\'restaurants\\', \\'no reservations\\', \\'white fish\\', \\'irvine\\', \\'menus\\', \\'valencia\\', \\'no wi-fi\\', \\'coffee\\', \\'establishment\\', \\'garlic butter\\', \\'drinks\\', \\'price\\', \\'health\\', \\'point of interest\\', \\'california\\', \\'seafood\\', \\'other\\', \\'food\\', \\'lunch & dinner\\', \\'a basket of calamari\\', \\'anaheim\\', \\'$$\\', \\'beer & wine\\', \\'drinking places\\', \\'fish is fresh\\', \\'cajun seared\\', \\'white fish (swai)\\', \\'salad\\', \\'seafood restaurant\\', \\'american restaurant\\', \\'ahi tuna\\', \\'real estate\\', \\'restaurant\\', \\'two cold beers\\', \\'outdoor seating\\']\"'],\n",
       " ['517,\"This company has a good background, quality products and a modern feel, but can t see lasting more than 10 more years. Pros Nice locations, flexible hours and quality healthy options on the current food market. Cons Working here is a joke, management acts like children, employees are not disciplined, and many laws are broken behind the scenes, I recommend an investigation and health inspections. McDonalds management\",\"',\n",
       "  '\\'favorites\\', \\'garlic butter sauce\\', \\'healthy places\\', \\'credit cards\\', \\'restaurants\\', \\'no reservations\\', \\'irvine\\', \\'menus\\', \\'valencia\\', \\'no wi-fi\\', \\'coffee\\', \\'establishment\\', \\'drinks\\', \\'price\\', \\'health\\', \\'cajun salmon\\', \\'point of interest\\', \\'california\\', \\'seafood\\', \\'other\\', \\'food\\', \\'dining options\\', \\'a basket of calamari\\', \\'anaheim\\', \\'$$\\', \\'beer & wine\\', \\'cajun seared\\', \\'white fish (swai)\\', \\'salad\\', \\'seafood restaurant\\', \\'grilled shrimp wrap\\', \\'american restaurant\\', \\'taco combo\\', \\'ahi tuna\\', \\'real estate\\', \\'dinner, lunch & more\\', \\'eating places\\', \\'restaurant\\', \\'two cold beers\\', \\'outdoor seating\\']\"'],\n",
       " ['550,\"An Awsome place to work.. Pros Good Money, flexible more like home! Cons You are in restaurant industry, we all have our flow\",\"',\n",
       "  '\\'good vegetarian options\\', \\'family style\\', \\'vietnamien\\', \\'bar seating\\', \\'vietnam\\', \\'worth the drive\\', \\'happy hour\\', \\'southeast asia\\', \\'pre/post theatre\\', \\'weddings\\', \\'outstanding value\\', \\'cooking\\', \\'notable wine list\\', \\'special occasion\\', \\'romantic\\', \\'vibrant bar scene\\', \\'wood oven\\', \\'hot spot\\', \\'oakland\\', \\'great for brunch\\', \\'establishment\\', \\'jazz\\', \\'casual\\', \\'bay area\\', \\'dancing\\', \\'business meals\\', \\'good for birthdays\\', \\'disabled access\\', \\'tapas\\', \\'gluten free options\\', \\'sunday lunch\\', \\'point of interest\\', \\'liquor\\', \\'handcrafted cocktails\\', \\'vegan\\', \\'great for outdoor dining\\', \\'fireplace\\', \\'other\\', \\'food\\', \\'neighborhood gem\\', \\'historic\\', \\'private room\\', \\'scenic view\\', \\'colonial\\', \\'comfort food\\', \\'trader vic\\', \\'authentic\\', \\'wine\\', \\'people watching\\', \\'spicy\\', \\'quiet conversation\\', \\'good for anniversaries\\', \\'seasonal\\', \\'quick bite\\', \\'management\\', \\'french\\', \\'good for groups\\', \\'vietnamese\\', \\'paleo friendly\\', \\'tasting menu\\', \\'local ingredients\\', \\'napa\\', \\'fun\\', \\'creative cuisine\\', \\'good for a date\\', \\'cozy\\', \\'fit for foodies\\', \\'great for lunch\\', \\'san francisco\\', \\'venues & event spaces\\', \\'live music\\', \\'eating places\\', \\'restaurant\\', \\'healthy\\', \\'event planning\\', \\'bar\\', \\'le colonial\\']\"'],\n",
       " ['621,\"Cashier Pros It is a job and all of the employees are very nice and helpful to new workers. The boss (Jamiil) treats his employees well and is flexible with your schedule. Cons You have to stand for hours upon hours at a time. The place gets hot and you sweat, and there are certain rush hours at lunch and at dinner where it gets extremely busy.\",\"',\n",
       "  '\\'cinnabon\\', \\'restaurants\\', \\'hispanic food\\', \\'establishment\\', \\'drupal\\', \\'hospitality\\', \\'local mexican food\\', \\'point of interest\\', \\'starbucks\\', \\'california\\', \\'other\\', \\'food\\', \\'fresh mexican\\', \\'religion and spirituality\\', \\'tex-mex\\', \\'joomla!\\', \\'restaurant chains\\', \\'fast food\\', \\'onerepublic\\', \\'sales\\', \\'thrillers\\', \\'restaurant\\', \\'india politics\\', \\'mexican\\']\"'],\n",
       " ['654,\"Great Part time Pros flexible hours, easy to move up within the business. good product and tips. Cons Franchise so all cold stone creameries are run a little differently. singing for tips isn t the best for ones morale.\",\"',\n",
       "  '\\'restaurants\\', \\'ice cream shops\\', \\'store\\', \\'gift cards\\', \\'hospitality\\', \\'ice cream\\', \\'tim hortons\\', \\'food & beverages\\', \\'restaurant chains\\', \\'point of interest\\', \\'ice cream and yogurt\\', \\'ice cream & frozen yogurt\\', \\'establishment\\', \\'other\\', \\'food\\']\"'],\n",
       " ['666,Very awesome. Pros They allow the use of flexible schedule. Cons There are too many hostesses.,\"',\n",
       "  '\\'buffets\\', \\'chinese\\', \\'japanese\\', \\'point of interest\\', \\'eating places\\', \\'restaurant\\', \\'establishment\\', \\'other\\', \\'food\\']\"'],\n",
       " ['714,Not a bad place to work Pros The couple that owned the one I worked at were very big on school and very flexible with my school schedule Being a delivery driver is great because the tips are awesome Cons The owner was kind of crazy I m kind of a health freak and just don t like working with pizza,\"',\n",
       "  '\\'credit cards\\', \\'no reservations\\', \\'no outdoor seating\\', \\'takeout\\', \\'food delivery\\', \\'menus\\', \\'order food online\\', \\'establishment\\', \\'pizza delivery\\', \\'local pizza\\', \\'drinks\\', \\'price\\', \\'sacramento pizza\\', \\'point of interest\\', \\'sandwiches\\', \\'through the garden\\', \\'pizza\\', \\'order pizza online\\', \\'other\\', \\'food\\', \\'meal delivery\\', \\'pizza menu\\', \\'dining options\\', \\'beer\\', \\'mypizza.com\\', \\'pizzeria\\', \\'extreme pizza\\', \\'$$\\', \\'salad\\', \\'pizza place\\', \\'delivery\\', \\'gluten-free restaurant\\', \\'pints on sunday\\', \\'dinner, lunch & more\\', \\'restaurant\\']\"'],\n",
       " ['720,\"Great Managers Pros The managers that I m working with are amazing and fantastic, they are really nice and give a flexible schedule. If you are busy or sick, they ll help support you with a sick day Cons Not much cons, although we do have some cooks who are slow, I do believe they need to set their expectations a little higher when it comes to customer satisfaction\",\"',\n",
       "  '\\'mexican\\', \\'gerardo ortiz\\', \\'trucks\\', \\'phoenix\\', \\'new mexico\\', \\'point of interest\\', \\'eating places\\', \\'restaurant\\', \\'tacos\\', \\'establishment\\', \\'other\\', \\'food\\']\"'],\n",
       " ['754,\"This company has a good background, quality products and a modern feel, but can t see lasting more than 10 more years. Pros Nice locations, flexible hours and quality healthy options on the current food market. Cons Working here is a joke, management acts like children, employees are not disciplined, and many laws are broken behind the scenes, I recommend an investigation and health inspections. McDonalds management\",\"',\n",
       "  '\\'favorites\\', \\'garlic butter sauce\\', \\'healthy places\\', \\'credit cards\\', \\'restaurants\\', \\'no reservations\\', \\'white fish\\', \\'irvine\\', \\'taco tuesday specials\\', \\'menus\\', \\'valencia\\', \\'coffee\\', \\'establishment\\', \\'restaurant\\', \\'drinks\\', \\'price\\', \\'health\\', \\'point of interest\\', \\'california\\', \\'seafood\\', \\'other\\', \\'food\\', \\'dining options\\', \\'a basket of calamari\\', \\'$$\\', \\'beer & wine\\', \\'cajun seared\\', \\'white fish (swai)\\', \\'salad\\', \\'seafood restaurant\\', \\'american restaurant\\', \\'ahi tuna\\', \\'real estate\\', \\'dinner, lunch & more\\', \\'eating places\\', \\'anaheim\\', \\'two cold beers\\', \\'outdoor seating\\']\"'],\n",
       " ['768,\"Cashier Pros It is a job and all of the employees are very nice and helpful to new workers. The boss (Jamiil) treats his employees well and is flexible with your schedule. Cons You have to stand for hours upon hours at a time. The place gets hot and you sweat, and there are certain rush hours at lunch and at dinner where it gets extremely busy.\",\"',\n",
       "  '\\'cinnabon\\', \\'restaurants\\', \\'hispanic food\\', \\'establishment\\', \\'drupal\\', \\'hospitality\\', \\'local mexican food\\', \\'point of interest\\', \\'california\\', \\'starbucks\\', \\'other\\', \\'food\\', \\'fresh mexican\\', \\'religion and spirituality\\', \\'tex-mex\\', \\'joomla!\\', \\'restaurant chains\\', \\'fast food\\', \\'onerepublic\\', \\'sales\\', \\'thrillers\\', \\'eating places\\', \\'restaurant\\', \\'india politics\\', \\'mexican\\']\"'],\n",
       " ['907,\"Good place to learn how to be a middle class restaurant server Pros a. Fast Paced, job is fun and keeps you on your feet. Good training b. Middle class guests decent to good tip, gets you prepped for bigger places c. Laid back management, when I worked, we weren t micromanaged d. Responsibilities, servers had to make drinks, bus, among other things you re mostly going to have something to do e. Managers are flexible, willing to work with your schedule and strengths f. Easy to get shifts covered Cons a. Fast Paced, not good for someone who can t keep up b. Very little teamwork, the particular location I was at, everyone was out for themselves c. Few incentives to work harder d. Responsibilities for people who want a casual, easy place to work, this place might be a bit too much e. Culture and values of restaurant are great, but aren t enforced nor respected by coworkers\",\"',\n",
       "  '\\'credit cards\\', \\'no outdoor seating\\', \\'menus\\', \\'chinese restaurant\\', \\'toronto\\', \\'great spicy thai chicken\\', \\'establishment\\', \\'blizzcon\\', \\'las vegas\\', \\'chop suey\\', \\'price\\', \\'point of interest\\', \\'reservations\\', \\'california\\', \\'other\\', \\'food\\', \\'dining options\\', \\'$$\\', \\'beef and broccoli\\', \\'chinese\\', \\'dinner, lunch & more\\', \\'restaurant\\', \\'crispy orange chicken\\', \\'orange county\\']\"'],\n",
       " ['981,\"This company has a good background, quality products and a modern feel, but can t see lasting more than 10 more years. Pros Nice locations, flexible hours and quality healthy options on the current food market. Cons Working here is a joke, management acts like children, employees are not disciplined, and many laws are broken behind the scenes, I recommend an investigation and health inspections. McDonalds management\",\"',\n",
       "  '\\'favorites\\', \\'garlic butter sauce\\', \\'healthy places\\', \\'irvine\\', \\'valencia\\', \\'coffee\\', \\'establishment\\', \\'health\\', \\'point of interest\\', \\'california\\', \\'seafood\\', \\'other\\', \\'food\\', \\'a basket of calamari\\', \\'anaheim\\', \\'cajun seared\\', \\'white fish (swai)\\', \\'salad\\', \\'ahi tuna\\', \\'real estate\\', \\'restaurant\\', \\'two cold beers\\']\"'],\n",
       " ['990,\"Busser Pros flexible, lots of hours, tips, location Cons there is no private parking so you must rely on public street parking\",\"',\n",
       "  '\\'credit cards\\', \\'california steak\\', \\'menus\\', \\'4 salad combo\\', \\'establishment\\', \\'drinks\\', \\'price\\', \\'point of interest\\', \\'reservations\\', \\'lobster ravioli\\', \\'other\\', \\'food\\', \\'dining options\\', \\'italian restaurant\\', \\'$$\\', \\'italian\\', \\'beer & wine\\', \\'happy hour, brunch & more\\', \\'delivery\\', \\'store\\', \\'restaurant\\', \\'outdoor seating\\']\"'],\n",
       " ['991,\"Being a Fudge Packer Pros If you love fudge, there s your reason for working here. (You can sample now and then, everything we make). Love the work teams, coworkers are all very friendly and easy going, and the company revolves around giving the customers a great experience. The work schedule is more flexible than in any other job. Cons If you can t handle annoying people or have very bad social communication skills this job won t fit you. Also, you probably won t get very much days off the weekend because that s when business is the busiest. Also you gotta be open to trying new things.\",\"',\n",
       "  '\\'seattle\\', \\'candy stores\\', \\'credit cards\\', \\'sweet candy\\', \\'menus\\', \\'sweet\\', \\'washington\\', \\'establishment\\', \\'seattle fudge\\', \\'fudge\\', \\'candy, nut, and confectionery stores\\', \\'fudge fun\\', \\'price\\', \\'point of interest\\', \\'taffy\\', \\'other\\', \\'food\\', \\'candy\\', \\'dessert shop\\', \\'seattle center\\', \\'fudge and fun\\', \\'salt water taffy\\', \\'store\\', \\'chocolatiers & shops\\', \\'dessert\\', \\'outdoor seating\\']\"'],\n",
       " ['1035,\"Great Managers Pros The managers that I m working with are amazing and fantastic, they are really nice and give a flexible schedule. If you are busy or sick, they ll help support you with a sick day Cons Not much cons, although we do have some cooks who are slow, I do believe they need to set their expectations a little higher when it comes to customer satisfaction\",\"',\n",
       "  '\\'gerardo ortiz\\', \\'trucks\\', \\'phoenix\\', \\'new mexico\\', \\'point of interest\\', \\'establishment\\', \\'restaurant\\', \\'tacos\\', \\'mexican\\', \\'other\\', \\'food\\']\"'],\n",
       " ['1069,\"This company has a good background, quality products and a modern feel, but can t see lasting more than 10 more years. Pros Nice locations, flexible hours and quality healthy options on the current food market. Cons Working here is a joke, management acts like children, employees are not disciplined, and many laws are broken behind the scenes, I recommend an investigation and health inspections. McDonalds management\",\"',\n",
       "  '\\'torah\\', \\'fresh fish\\', \\'recipes\\', \\'simply the freshest\\', \\'mesquite grilled fish\\', \\'kosher\\', \\'chefs\\', \\'sea food restaurant\\', \\'israel\\', \\'point of interest\\', \\'fast food\\', \\'restaurant\\', \\'seafood\\', \\'bitcoin\\', \\'establishment\\', \\'other\\', \\'food\\']\"'],\n",
       " ['1119,\"Great college jobs Pros There is an great staff, fairly easy job, pay raises every couple of months, and they are fairly flexible with a school schedule. Cons You are expected to work most weekends and also new hires are expected to do dishes and lots of cleaning.\",\"',\n",
       "  '\\'dining options\\', \\'american restaurant\\', \\'chicken wings\\', \\'no reservations\\', \\'no outdoor seating\\', \\'american (traditional)\\', \\'price\\', \\'beer\\', \\'drinks\\', \\'ramhot\\', \\'$$\\', \\'menus\\', \\'point of interest\\', \\'eating places\\', \\'best wings in town\\', \\'restaurant\\', \\'establishment\\', \\'ram hot\\', \\'other\\', \\'food\\', \\'happy hour, brunch & more\\']\"'],\n",
       " ['1174,\"Potato Corner Pros flexible hours, awesome coworkers, free meal during break Cons super busy during weekends (make sure you re able to stand for more than 5 hrs straight), sometimes its hard to even go on break because it gets so busy\",\"',\n",
       "  '\\'meal takeaway\\', \\'point of interest\\', \\'fast food\\', \\'eating places\\', \\'restaurant\\', \\'establishment\\', \\'other\\', \\'food\\']\"'],\n",
       " ['1252,\"Good for a first job Pros Easy to get hired, flexible, make some money what I was looking for as a high schooler with no experience. Left after several months for a better job, but it was fine for what it was. Cons Customers would often be surprised or complain at the cash register about prices. Quiznos is definitely more expensive than Subway. The work gets pretty boring pretty quickly.\",\"',\n",
       "  '\\'lunch\\', \\'twitter\\', \\'restaurants\\', \\'sub\\', \\'gift cards\\', \\'establishment\\', \\'business\\', \\'hospitality\\', \\'sandwich\\', \\'catering\\', \\'point of interest\\', \\'sandwiches\\', \\'other\\', \\'food\\', \\'recipes\\', \\'quiznos\\', \\'sandwich and deli\\', \\'restaurant chains\\', \\'toasted sandwich\\', \\'fast food\\', \\'delis\\', \\'restaurant\\']\"']]"
      ]
     },
     "execution_count": 8,
     "metadata": {},
     "output_type": "execute_result"
    }
   ],
   "source": [
    "df_categories_separate.filter(lambda record : \"flexible\" in record[0]).collect()"
   ]
  },
  {
   "cell_type": "markdown",
   "metadata": {},
   "source": [
    "**4) Lowercase all reviews, then return the count of records where review contains the word *flexible* (1 POINT)**"
   ]
  },
  {
   "cell_type": "code",
   "execution_count": 9,
   "metadata": {
    "tags": []
   },
   "outputs": [],
   "source": [
    "def process_review(review):\n",
    "    review_lower = review.lower()\n",
    "    return \"flexible\" in review_lower"
   ]
  },
  {
   "cell_type": "code",
   "execution_count": 10,
   "metadata": {},
   "outputs": [
    {
     "data": {
      "text/plain": [
       "44"
      ]
     },
     "execution_count": 10,
     "metadata": {},
     "output_type": "execute_result"
    }
   ],
   "source": [
    "df_categories_separate.filter(lambda record : process_review(record[0])).count()"
   ]
  },
  {
   "cell_type": "markdown",
   "metadata": {},
   "source": [
    "**5) Return the top 10 most frequent categories  (4 POINTS)**  \n",
    "\n",
    "Preprocess the categories by:  \n",
    "* stripping characters: &nbsp; [ &nbsp; ] &nbsp;  ' &nbsp;  \"  \n",
    "* trim spaces before and after words  \n",
    "* lowercase\n",
    "* removing blank categories\n",
    "\n",
    "NOTE: Be sure to keep terms together, for example 'jet skiing' should not become 'jet', 'skiing'"
   ]
  },
  {
   "cell_type": "code",
   "execution_count": 52,
   "metadata": {
    "tags": []
   },
   "outputs": [],
   "source": [
    "def process_categories(categories):\n",
    "    stripped_categories = categories.strip()\n",
    "    clean = stripped_categories.replace(\"[\", \"\")\n",
    "    clean = clean.replace(\"]\", \"\")\n",
    "    clean = clean.replace(\"'\", \"\")\n",
    "    clean = clean.replace('\"', '')\n",
    "    \n",
    "    clean = clean.split(\",\")\n",
    "    clean = [cat.strip().lower() for cat in clean]\n",
    "    \n",
    "    return clean"
   ]
  },
  {
   "cell_type": "code",
   "execution_count": 67,
   "metadata": {},
   "outputs": [
    {
     "data": {
      "text/plain": [
       "[(717, 'point of interest'),\n",
       " (717, 'establishment'),\n",
       " (716, 'food'),\n",
       " (659, 'restaurant'),\n",
       " (496, 'price'),\n",
       " (482, 'other'),\n",
       " (331, 'credit cards'),\n",
       " (311, 'menus'),\n",
       " (291, 'eating places'),\n",
       " (274, 'dining options')]"
      ]
     },
     "execution_count": 67,
     "metadata": {},
     "output_type": "execute_result"
    }
   ],
   "source": [
    "df_categories_separate.flatMap(lambda record : process_categories(record[1])) \\\n",
    "                      .filter(lambda cat : cat != '') \\\n",
    "                      .map(lambda x: (x, 1)) \\\n",
    "                      .reduceByKey(lambda x,y : x+y) \\\n",
    "                      .map(lambda x : (x[1],x[0])) \\\n",
    "                      .sortByKey(False) \\\n",
    "                      .take(10)"
   ]
  }
 ],
 "metadata": {
  "anaconda-cloud": {},
  "kernelspec": {
   "display_name": "DS7200 Spark 3.3",
   "language": "python",
   "name": "ds5110_spark3.3"
  },
  "language_info": {
   "codemirror_mode": {
    "name": "ipython",
    "version": 3
   },
   "file_extension": ".py",
   "mimetype": "text/x-python",
   "name": "python",
   "nbconvert_exporter": "python",
   "pygments_lexer": "ipython3",
   "version": "3.7.12"
  }
 },
 "nbformat": 4,
 "nbformat_minor": 4
}
