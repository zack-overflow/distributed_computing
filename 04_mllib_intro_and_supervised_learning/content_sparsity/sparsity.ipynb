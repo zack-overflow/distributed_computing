{
 "cells": [
  {
   "cell_type": "markdown",
   "metadata": {},
   "source": [
    "<img src=\"uva_seal.png\">  "
   ]
  },
  {
   "cell_type": "markdown",
   "metadata": {},
   "source": [
    "## Sparsity\n",
    "\n",
    "### University of Virginia\n",
    "### DS 7200: Distributed Computing\n",
    "### Last Updated: August 20, 2023\n",
    "\n",
    "---  \n",
    "\n",
    "### SOURCES \n",
    "\n",
    "[Spark SparseMatrix documentation](https://spark.apache.org/docs/latest/api/python/reference/api/pyspark.mllib.linalg.SparseMatrix.html)  \n",
    "[Compressed Column Storage format example](https://netlib.org/linalg/html_templates/node92.html#SECTION00931200000000000000)\n",
    "\n",
    "### OBJECTIVES\n",
    "1. Understand the benefits of sparsity\n",
    "2. Calculate the dot product of two sparse vectors\n",
    "3. Understand how CSC format works\n",
    "\n",
    "\n",
    "### CONCEPTS AND FUNCTIONS\n",
    "- SparseVector\n",
    "- SparseMatrix\n",
    "- CSC format\n",
    "\n",
    "---  "
   ]
  },
  {
   "cell_type": "markdown",
   "metadata": {},
   "source": [
    "### 1. Introduction to Sparsity\n",
    "\n",
    "Imagine a vector $v$ of length 1 million where one value is 10 and the rest are zero.  \n",
    "Another vector $w$ is also length 1 million. A value in a different position is 4, and the rest of the values are zero.  \n",
    "We want to store $v$ and $w$.  \n",
    "We also want to compute their dot product:\n",
    "\n",
    "$ v \\cdot w = \\sum_i v_i w_i$\n",
    "\n",
    "**Storage and compute in the usual way are extremely inefficient.**\n",
    "\n",
    "How can we be more efficient? Take advantage of the zeros, or *sparsity.*\n",
    "\n",
    "A *sparse* object contains mostly zeros. The opposite is *dense*.\n",
    "\n",
    "Sparse vectors and matrices come up a lot in ML. \n",
    "\n",
    "Examples:\n",
    "\n",
    "- An interaction matrix containing Amazon customers on rows, products on columns, \n",
    "and elements representing the number of times each user purchased each item.\n",
    "\n",
    "- A term-document matrix containing documents on rows, words in a vocabulary on columns,\n",
    "and elements representing the number of times each word appears in each document.\n",
    "\n",
    "In each case, most elements will be zero.\n",
    "\n",
    "Spark takes advantage of sparsity whenever possible.\n",
    "\n",
    "Sparse vectors and matrices assume that elements have value zero unless otherwise stated."
   ]
  },
  {
   "cell_type": "markdown",
   "metadata": {},
   "source": [
    "### 2. Saving on Storage and Compute\n",
    "\n",
    "**Storage**  \n",
    "If we store only what's nonzero, the required storage requirement can be much lower.  \n",
    "\n",
    "Here is an example of a Sparse Vector in Spark:\n",
    "\n",
    "```\n",
    "SparseVector(100000, {0: 1.0, 1162: 3.0})\n",
    "```\n",
    "\n",
    "It stores three pieces of information:\n",
    "\n",
    "- vector length (100000 in this case)\n",
    "- positions of non-zero elements (0 and 1162)\n",
    "- values of non-zero elements (1 and 3)\n",
    "\n",
    "**The required storage is much lower for this sparse vector versus the dense vector**\n",
    "\n",
    "Also note that non-zero positions and values must be associated in some way.  \n",
    "\n",
    "Here they are saved as key : value pairs.  \n",
    "- position 0 holds value 1. position 1162 holds value 3.\n",
    "\n",
    "It is also common to provide two lists with corresponding elements like this:\n",
    "- [0, 1162]    # locations\n",
    "- [1.0, 3.0]  # values\n",
    "\n",
    "which can have form\n",
    "```\n",
    "SparseVector(100000, [0, 1162], [1.0, 3.0])\n",
    "```"
   ]
  },
  {
   "cell_type": "markdown",
   "metadata": {},
   "source": [
    "**Compute**\n",
    "\n",
    "We can define and use methods that know how to compute on sparse objects.  \n",
    "\n",
    "This can reduce the number of operations.\n",
    "\n",
    "Returning to the dot product, we can\n",
    "\n",
    "1. create the sparse objects\n",
    "2. compute a product $v_i w_i$ only when both $v_i$ and $w_i$ are non-zero for some $i$ \n",
    "\n",
    "\n",
    "```\n",
    "v = SparseVector(100000, [0, 5, 1162], [1.0, 3.0, 6.0])\n",
    "w = SparseVector(100000, [2, 5, 1162], [4.0, 1.0, 2.0])\n",
    "```\n",
    "\n",
    "In positions 5 and 1162, both vectors have non-zero elements.  We compute element-wise products like this:\n",
    "\n",
    "$\n",
    "v \\cdot w = (3 \\times 1) + (6 \\times 2) = 15\n",
    "$\n",
    "\n",
    "If we did this calculation with dense vectors, we would need 1 million multiplications and 999,999 additions.\n"
   ]
  },
  {
   "cell_type": "markdown",
   "metadata": {},
   "source": [
    "### 3. Sparse Matrices"
   ]
  },
  {
   "cell_type": "markdown",
   "metadata": {},
   "source": [
    "There are different ways to store a sparse matrix.\n",
    "\n",
    "Spark includes the *Sparse Matrix* object. It is stored in Compressed Sparse Column (CSC) format.\n",
    "\n",
    "It is column oriented \n",
    "\n",
    "Benefits include:\n",
    "- efficient storage\n",
    "- efficient column slicing\n",
    "- fast matrix vector products \n",
    "\n",
    "Here is an example, let's see if we can figure out how it works."
   ]
  },
  {
   "cell_type": "markdown",
   "metadata": {},
   "source": [
    "<img src=\"matrix.png\">  "
   ]
  },
  {
   "cell_type": "markdown",
   "metadata": {},
   "source": [
    "<img src=\"ccs.png\">  "
   ]
  },
  {
   "cell_type": "markdown",
   "metadata": {},
   "source": [
    "Let NNZ = number of nonzero elements\n",
    "\n",
    "Each nonzero element is stored in $val$\n",
    "\n",
    "The row of each nonzero element is stored in $row\\_ind$, where the first row is index 1.\n",
    "\n",
    "The $col\\_ptr$ stores the index of the elements in $val$ which start a column."
   ]
  },
  {
   "cell_type": "markdown",
   "metadata": {},
   "source": [
    "\n",
    "\n"
   ]
  },
  {
   "cell_type": "markdown",
   "metadata": {},
   "source": [
    "**TRY FOR YOURSELF (UNGRADED EXERCISES)**"
   ]
  },
  {
   "cell_type": "markdown",
   "metadata": {},
   "source": [
    "1) Consider two vectors of length 1 million.  \n",
    "The first has a nonzero element in the first position.  \n",
    "The second has a nonzero element in the last position.  \n",
    "What is their dot product?"
   ]
  },
  {
   "cell_type": "markdown",
   "metadata": {},
   "source": []
  },
  {
   "cell_type": "markdown",
   "metadata": {
    "jupyter": {
     "source_hidden": true
    }
   },
   "source": [
    "Answer: As there is no overlap in nonzero entry positions, their dot product is zero."
   ]
  },
  {
   "cell_type": "markdown",
   "metadata": {},
   "source": [
    "2) Think of another method for efficiently storing a sparse matrix.  \n",
    "What are the benefits and drawbacks compared to the CSC format?"
   ]
  },
  {
   "cell_type": "markdown",
   "metadata": {},
   "source": []
  },
  {
   "cell_type": "markdown",
   "metadata": {
    "jupyter": {
     "source_hidden": true
    }
   },
   "source": [
    "Answer: CSR format for example."
   ]
  }
 ],
 "metadata": {
  "anaconda-cloud": {},
  "kernelspec": {
   "display_name": "DS7200 Spark 3.3",
   "language": "python",
   "name": "ds5110_spark3.3"
  },
  "language_info": {
   "codemirror_mode": {
    "name": "ipython",
    "version": 3
   },
   "file_extension": ".py",
   "mimetype": "text/x-python",
   "name": "python",
   "nbconvert_exporter": "python",
   "pygments_lexer": "ipython3",
   "version": "3.7.12"
  }
 },
 "nbformat": 4,
 "nbformat_minor": 4
}
